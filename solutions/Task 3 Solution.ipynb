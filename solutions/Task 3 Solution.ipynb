{
 "cells": [
  {
   "cell_type": "markdown",
   "id": "e563d0f3-999d-4eca-9a44-e3670732b75e",
   "metadata": {},
   "source": [
    "# Task 3 - predict diabetes occurence\n",
    "\n",
    "- Predict diabetes using decission tree model from `sklearn.tree`\n",
    "- Extract target variable `y` - under `class` column\n",
    "- Separate test set (20%) `X_train, X_test, y_train, y_test` using `train_test_split` from `sklearn.model_selection`\n",
    "- fit model and display train and test scores."
   ]
  },
  {
   "cell_type": "code",
   "execution_count": null,
   "id": "f33c26aa-7163-4c93-9549-898323e9bc1f",
   "metadata": {},
   "outputs": [],
   "source": [
    "import pandas as pd\n",
    "\n",
    "url = \"https://gist.githubusercontent.com/SaxMan96/4738e28799226fc76b40a35e5d55b282/raw/02a16853a83ae701db3dc95b638760a61d76d01f/diabetes.csv\"\n",
    "df = pd.read_csv(url)"
   ]
  },
  {
   "cell_type": "code",
   "execution_count": null,
   "id": "9b9904d3-4fd5-4d72-b32a-f1db54a2265f",
   "metadata": {},
   "outputs": [],
   "source": [
    "y = df['class']\n",
    "X = df.drop(columns=['class']).copy()"
   ]
  },
  {
   "cell_type": "code",
   "execution_count": null,
   "id": "e48466d5-bc65-4298-bf14-bf39e41c2953",
   "metadata": {
    "tags": []
   },
   "outputs": [],
   "source": [
    "from sklearn.model_selection import train_test_split\n",
    "\n",
    "X_train, X_test, y_train, y_test = train_test_split(X, y, test_size=0.2, random_state=7)"
   ]
  },
  {
   "cell_type": "code",
   "execution_count": null,
   "id": "ea549aac-6a7b-4193-9702-976c32548eac",
   "metadata": {
    "tags": []
   },
   "outputs": [],
   "source": [
    "from sklearn.tree import DecisionTreeClassifier\n",
    "\n",
    "model = DecisionTreeClassifier()\n",
    "\n",
    "model.fit(X_train, y_train)\n",
    "model.score(X_train, y_train), model.score(X_test, y_test)"
   ]
  },
  {
   "cell_type": "markdown",
   "id": "5fae8e52-8683-4b73-afa8-fbab89abfb60",
   "metadata": {},
   "source": [
    "---\n",
    "To make sure your split wasn't lucku or unlucky perform cross validation to average the score across multiple folds\n",
    "\n",
    "- Use `cross_validate` from `sklearn.model_selection` to get a CV accuracy score (used by default in DecissionTreeClassifier model)\n",
    "- Use 5-fold split (`cv=5`)\n",
    "- Use parameters `scoring` and `return_train_score` to receive required scores.\n",
    "- Print mean test and train scores."
   ]
  },
  {
   "cell_type": "code",
   "execution_count": null,
   "id": "f5a5ad31-a699-47df-875b-f79604e19cd1",
   "metadata": {
    "tags": []
   },
   "outputs": [],
   "source": [
    "from sklearn.model_selection import cross_validate\n",
    "scores_cv = cross_validate(model, X, y, cv=5, scoring='accuracy', return_train_score=True)\n",
    "scores_cv = pd.DataFrame(scores_cv)\n",
    "scores_cv.mean().to_frame().T"
   ]
  },
  {
   "cell_type": "markdown",
   "id": "0422f84c-a46f-455b-97c0-77c1ce384d78",
   "metadata": {
    "execution": {
     "iopub.execute_input": "2022-10-22T12:03:08.856299Z",
     "iopub.status.busy": "2022-10-22T12:03:08.856299Z",
     "iopub.status.idle": "2022-10-22T12:03:08.878295Z",
     "shell.execute_reply": "2022-10-22T12:03:08.876311Z",
     "shell.execute_reply.started": "2022-10-22T12:03:08.856299Z"
    }
   },
   "source": [
    "---\n",
    "As you can see the model is overfitter (test score is much worse than train score)\n",
    "\n",
    "- try to improve the test score by tweaking `max_depth` (default None) and `min_samples_leaf` (default 1) parameters.\n",
    "- use cross_validate again to measure the performance"
   ]
  },
  {
   "cell_type": "code",
   "execution_count": null,
   "id": "1b9cd57e-b144-4b8a-99ba-b1d008919260",
   "metadata": {
    "tags": []
   },
   "outputs": [],
   "source": [
    "model = DecisionTreeClassifier(max_depth=2, min_samples_leaf=20)\n",
    "scores_cv = cross_validate(model, X, y, cv=5, scoring='accuracy', return_train_score=True)\n",
    "scores_cv = pd.DataFrame(scores_cv)\n",
    "scores_cv.mean().to_frame().T"
   ]
  },
  {
   "cell_type": "markdown",
   "id": "a0c4491f-15c0-4f37-a0a1-d89c9da72851",
   "metadata": {},
   "source": [
    "---\n",
    "We can experiment with that for long, but its better to automate it. \n",
    "\n",
    "- Use `GridSearch` from `sklearn.model_selection`\n",
    "- You will need param grid with defined ranges of hyperparameters. Use `max_depth` and `min_samples_leaf`.\n",
    "- Use `range(start, stop, step)` to define ranges of values to test."
   ]
  },
  {
   "cell_type": "code",
   "execution_count": null,
   "id": "c4130f98-bd8f-495d-a61b-c72951ee514f",
   "metadata": {
    "tags": []
   },
   "outputs": [],
   "source": [
    "from sklearn.model_selection import GridSearchCV\n",
    "model = DecisionTreeClassifier(max_depth=5, min_samples_leaf=40)\n",
    "param_grid = {\n",
    "    'max_depth': range(2, 10),\n",
    "    'min_samples_leaf': range(10, 60, 5),\n",
    "}\n",
    "grid_search = GridSearchCV(estimator=model, param_grid=param_grid, cv=5, return_train_score=True)\n",
    "grid_search.fit(X, y)\n",
    "results = grid_search.cv_results_\n",
    "results = pd.DataFrame(results).sort_values('rank_test_score')\n",
    "results.head(1)[['params', 'mean_test_score', 'mean_train_score']]"
   ]
  },
  {
   "cell_type": "markdown",
   "id": "5cbcce35-a3ef-45cd-8a8d-feda7b5bc9e2",
   "metadata": {
    "execution": {
     "iopub.execute_input": "2022-10-22T12:24:33.897946Z",
     "iopub.status.busy": "2022-10-22T12:24:33.897946Z",
     "iopub.status.idle": "2022-10-22T12:24:33.917148Z",
     "shell.execute_reply": "2022-10-22T12:24:33.916148Z",
     "shell.execute_reply.started": "2022-10-22T12:24:33.897946Z"
    },
    "tags": []
   },
   "source": [
    "---\n",
    "Now you have scores and hyperparamaters for the best model, how close you were when doing it manualy?\n",
    "\n",
    "- train the best model again on train dataset and use predictions from test set to display confusion matrix.\n",
    "- display confusion matrix - assign prediction and true values properly"
   ]
  },
  {
   "cell_type": "code",
   "execution_count": null,
   "id": "faa6aac0-dd7a-423d-99ed-07f5feb7fabb",
   "metadata": {
    "tags": []
   },
   "outputs": [],
   "source": [
    "from sklearn.metrics import confusion_matrix, ConfusionMatrixDisplay\n",
    "\n",
    "model = grid_search.best_estimator_\n",
    "model.fit(X_train, y_train)\n",
    "predictions = model.predict(X_test)\n",
    "cm = confusion_matrix(y_true=y_test, y_pred=predictions, labels=[0, 1])\n",
    "disp = ConfusionMatrixDisplay(confusion_matrix=cm, display_labels=['Healthy', 'Diabetes'])\n",
    "disp.plot();"
   ]
  },
  {
   "cell_type": "markdown",
   "id": "9c548aef-4b21-4217-a221-39a9eb1ba319",
   "metadata": {},
   "source": [
    "---\n",
    "Assuming the above confusion matrix represent a real results from diabetes classification for real people, think about the following questions:\n",
    "- How many ill people this model marks as healthy?\n",
    "- How many healthy people will have to go to unnecessary labours because of your model?\n",
    "- How precise is your model in detecting ill people?\n",
    "- How much of ill-classified people are truly ill?"
   ]
  }
 ],
 "metadata": {
  "kernelspec": {
   "display_name": "Python 3 (ipykernel)",
   "language": "python",
   "name": "python3"
  },
  "language_info": {
   "codemirror_mode": {
    "name": "ipython",
    "version": 3
   },
   "file_extension": ".py",
   "mimetype": "text/x-python",
   "name": "python",
   "nbconvert_exporter": "python",
   "pygments_lexer": "ipython3",
   "version": "3.9.13"
  }
 },
 "nbformat": 4,
 "nbformat_minor": 5
}
