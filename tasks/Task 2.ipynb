{
 "cells": [
  {
   "cell_type": "markdown",
   "id": "d3e57fd1-26ec-4bc5-b3ac-43df515edb06",
   "metadata": {
    "execution": {
     "iopub.execute_input": "2022-10-22T13:00:01.319993Z",
     "iopub.status.busy": "2022-10-22T13:00:01.319993Z",
     "iopub.status.idle": "2022-10-22T13:00:01.330720Z",
     "shell.execute_reply": "2022-10-22T13:00:01.328749Z",
     "shell.execute_reply.started": "2022-10-22T13:00:01.319993Z"
    },
    "pycharm": {
     "name": "#%% md\n"
    },
    "tags": []
   },
   "source": [
    "# Task 2 - spaceship titanic\n",
    "\n",
    "> It is year 2912 and Spaceship Titanic, an interstellar passenger liner, is on its maiden voyage with almost 13,000 passengers onboard. Spaceship Titanic is transporting emigrants from our solar system to three newly habitable exoplanets when it collides with a cosmic anomaly hidden without a dust cloud which resulted in almost half of the passengers onboard to be transported to another dimension. Your task is to help rescue the lost passengers by predicting which passengers were transported by the cosmic anomaly by using records from the ships damaged computer system.\n",
    "\n",
    "\n",
    "Dataset and amazing description ~ Emre Rençberoğlu"
   ]
  },
  {
   "cell_type": "code",
   "execution_count": null,
   "id": "fb10f928-b05a-459f-924e-b0d4e3a227af",
   "metadata": {
    "pycharm": {
     "name": "#%%\n"
    },
    "tags": []
   },
   "outputs": [],
   "source": [
    "import pandas as pd\n",
    "url = \"https://gist.githubusercontent.com/SaxMan96/d90c454ec90c8270ef29193ef4b26726/raw/8f6373f8549cd2f4b87b5d12ad688f56f6fae7ca/spaceship_titanic.csv\"\n",
    "df = pd.read_csv(url, index_col=0)"
   ]
  },
  {
   "cell_type": "code",
   "execution_count": null,
   "id": "01077ecb-0ced-4267-85d0-5759e55c242d",
   "metadata": {
    "pycharm": {
     "name": "#%%\n"
    }
   },
   "outputs": [],
   "source": [
    "df.shape"
   ]
  },
  {
   "cell_type": "code",
   "execution_count": null,
   "id": "3cc9e30d-b4b7-4504-93cf-f3471e462582",
   "metadata": {
    "pycharm": {
     "name": "#%%\n"
    }
   },
   "outputs": [],
   "source": [
    "df.isna().sum()"
   ]
  },
  {
   "cell_type": "code",
   "execution_count": null,
   "id": "9f99aac0-b572-4316-b7a5-570948d01bce",
   "metadata": {
    "pycharm": {
     "name": "#%%\n"
    }
   },
   "outputs": [],
   "source": [
    "df.head(5)"
   ]
  },
  {
   "cell_type": "code",
   "execution_count": null,
   "id": "b336869a-3324-42ba-9ce7-641592795e55",
   "metadata": {
    "pycharm": {
     "name": "#%%\n"
    }
   },
   "outputs": [],
   "source": [
    "print(*df.Cabin.unique()[:20], sep='\\t', end='...')"
   ]
  },
  {
   "cell_type": "markdown",
   "id": "5a29efe0-fc68-4d34-a706-1ac2f407fe5e",
   "metadata": {
    "pycharm": {
     "name": "#%% md\n"
    },
    "tags": []
   },
   "source": [
    "`Cabin` column contains 3 informations: Deck, Num and Side of cabin. Use split method to `split()` the string into 3 distinct columns. \n",
    "- Pass separator string to `pat` argument of the `split()` method.\n",
    "- Pass `expand` bollean value to expand the split strings into separate columns.\n",
    "\n",
    "Doculemtation: [pandas.Series.str.split](https://pandas.pydata.org/pandas-docs/stable/reference/api/pandas.Series.str.split.html)"
   ]
  },
  {
   "cell_type": "code",
   "execution_count": null,
   "id": "81b21ef2-f690-4c9c-8efd-3ba86273b492",
   "metadata": {
    "pycharm": {
     "name": "#%%\n"
    },
    "tags": []
   },
   "outputs": [],
   "source": [
    "df[['Deck', 'Num', 'Side']] = df['Cabin'].str.split(pat='/', expand=True).fillna('Missing')"
   ]
  },
  {
   "cell_type": "code",
   "execution_count": null,
   "id": "53e4666e-db9a-44e0-ad0c-b61a05a6ad96",
   "metadata": {
    "pycharm": {
     "name": "#%%\n"
    }
   },
   "outputs": [],
   "source": [
    "df.Deck.nunique(), df.Num.nunique(), df.Side.nunique()"
   ]
  },
  {
   "cell_type": "markdown",
   "id": "0970f6b7-6e63-4d07-bc36-73d931f12c33",
   "metadata": {
    "pycharm": {
     "name": "#%% md\n"
    }
   },
   "source": [
    "As you can see `Num` holds numerical value, but there are some missing values, that can't be treated as number.\n",
    "- Assign `MissingNum` to boolean value which represents whether `df.Num` is equal to `'Missing'`\n",
    "- Replace `'Missing'` with `-1` in `Num` column using `replace()` method.\n",
    "\n",
    "Documentation: [pandas.Series.replace](https://pandas.pydata.org/docs/reference/api/pandas.Series.replace.html)"
   ]
  },
  {
   "cell_type": "code",
   "execution_count": null,
   "id": "0848340d-a218-4e13-8c62-1eac5ded0b61",
   "metadata": {
    "pycharm": {
     "name": "#%%\n"
    },
    "tags": []
   },
   "outputs": [],
   "source": [
    "df.Num.nunique()\n",
    "df = df.assign(\n",
    "    MissingNum = df.Num=='Missing',\n",
    "    Num = df.Num.replace(to_replace='Missing', value=-1).astype(int),\n",
    ")"
   ]
  },
  {
   "cell_type": "code",
   "execution_count": null,
   "id": "7c624050-d206-4de4-b5b6-dfa85d80217b",
   "metadata": {
    "pycharm": {
     "name": "#%%\n"
    }
   },
   "outputs": [],
   "source": [
    "df.Num.plot.hist(bins=100)"
   ]
  },
  {
   "cell_type": "markdown",
   "id": "bf4d5e3f-8075-4290-b639-0eb1ac47a97b",
   "metadata": {
    "pycharm": {
     "name": "#%% md\n"
    }
   },
   "source": [
    "categorical features"
   ]
  },
  {
   "cell_type": "code",
   "execution_count": null,
   "id": "186fe070-f699-4c33-a9f5-c3fedf2a5858",
   "metadata": {
    "pycharm": {
     "name": "#%%\n"
    },
    "tags": []
   },
   "outputs": [],
   "source": [
    "df.Deck.value_counts()"
   ]
  },
  {
   "cell_type": "code",
   "execution_count": null,
   "id": "00cb29b0-6839-4e39-a73b-b35932fce9fe",
   "metadata": {
    "pycharm": {
     "name": "#%%\n"
    },
    "tags": []
   },
   "outputs": [],
   "source": [
    "df.Side.value_counts()"
   ]
  },
  {
   "cell_type": "code",
   "execution_count": null,
   "id": "abe21523-0473-4c35-8ff5-67dd642b51bb",
   "metadata": {
    "pycharm": {
     "name": "#%%\n"
    },
    "tags": []
   },
   "outputs": [],
   "source": [
    "df.HomePlanet.value_counts()"
   ]
  },
  {
   "cell_type": "code",
   "execution_count": null,
   "id": "e3ae657a-c42e-4ea7-994b-3bb7a22de6d3",
   "metadata": {
    "pycharm": {
     "name": "#%%\n"
    },
    "tags": []
   },
   "outputs": [],
   "source": [
    "df.Destination.value_counts()"
   ]
  },
  {
   "cell_type": "markdown",
   "id": "c64dcc9a-ff57-4c9d-b5e7-099cb3f331b2",
   "metadata": {
    "pycharm": {
     "name": "#%% md\n"
    }
   },
   "source": [
    "As we will use Logistic Regression all variables have to be numeric. So in order to convert categorical features to numeric we will use `get_dummies()` function that converts categorical column to dummy/indicator variables. Look how does it work below:"
   ]
  },
  {
   "cell_type": "code",
   "execution_count": null,
   "id": "4b529296-801f-4924-8816-a6b746fa05b3",
   "metadata": {
    "pycharm": {
     "name": "#%%\n"
    }
   },
   "outputs": [],
   "source": [
    "pd.get_dummies(df['Destination'], prefix='Destination').head()"
   ]
  },
  {
   "cell_type": "markdown",
   "id": "c424e849-49b3-49e0-b780-74f1745d5465",
   "metadata": {
    "pycharm": {
     "name": "#%% md\n"
    }
   },
   "source": [
    "Now for all categorical features w want to add indicator variables using for loop.\n",
    "\n",
    "Use `feature_name` variable to select proper column and name the prefix."
   ]
  },
  {
   "cell_type": "code",
   "execution_count": null,
   "id": "802a07d7-f8ed-4f3a-97d6-8c01d3338e1d",
   "metadata": {
    "pycharm": {
     "name": "#%%\n"
    },
    "tags": []
   },
   "outputs": [],
   "source": [
    "for feature_name in ['Deck', 'Side', 'HomePlanet', 'Destination']:\n",
    "    df = pd.concat([df, pd.get_dummies(df[feature_name], prefix=feature_name)], axis=1)"
   ]
  },
  {
   "cell_type": "markdown",
   "id": "98e256f5-bd5e-48b9-9761-7417e8b15e62",
   "metadata": {
    "pycharm": {
     "name": "#%% md\n"
    }
   },
   "source": [
    "now we will drop unnecessary columns"
   ]
  },
  {
   "cell_type": "code",
   "execution_count": null,
   "id": "178278af-fb37-4a8d-8640-3010d01a373b",
   "metadata": {
    "pycharm": {
     "name": "#%%\n"
    }
   },
   "outputs": [],
   "source": [
    "drop_columns = ['Deck', 'Side', 'HomePlanet', 'Cabin', 'Destination', 'Name']\n",
    "df = df.drop(columns=drop_columns)"
   ]
  },
  {
   "cell_type": "markdown",
   "id": "4439e92d-85d2-481e-81f5-d3756e154c3b",
   "metadata": {
    "pycharm": {
     "name": "#%% md\n"
    }
   },
   "source": [
    "Now we will fill missing values in spending categories, because null means that there are no spendings, so we can fill it with zeros"
   ]
  },
  {
   "cell_type": "code",
   "execution_count": null,
   "id": "f3094119-3146-41de-ae69-d8b675544146",
   "metadata": {
    "pycharm": {
     "name": "#%%\n"
    },
    "tags": []
   },
   "outputs": [],
   "source": [
    "fill_cols = ['RoomService', 'FoodCourt', 'ShoppingMall', 'Spa', 'VRDeck']\n",
    "df[fill_cols] = df[fill_cols].fillna(0)"
   ]
  },
  {
   "cell_type": "markdown",
   "id": "70623a53-1ceb-4436-84ec-dc79563b01b2",
   "metadata": {
    "pycharm": {
     "name": "#%% md\n"
    }
   },
   "source": [
    "Here we create `TotalSpend` variable that is sum of all categories."
   ]
  },
  {
   "cell_type": "code",
   "execution_count": null,
   "id": "f314bc85-9fc8-4707-acee-2cb34b5cf11e",
   "metadata": {
    "pycharm": {
     "name": "#%%\n"
    }
   },
   "outputs": [],
   "source": [
    "df = df.assign(TotalSpend = df[['RoomService', 'FoodCourt', 'ShoppingMall', 'Spa', 'VRDeck']].sum(axis=1))"
   ]
  },
  {
   "cell_type": "markdown",
   "id": "5cc6c1ba-9c94-41e3-944a-301ef9e427c6",
   "metadata": {
    "pycharm": {
     "name": "#%% md\n"
    }
   },
   "source": [
    "Here we separate predicted variable from predictors. "
   ]
  },
  {
   "cell_type": "code",
   "execution_count": null,
   "id": "54cef381-006f-4a4e-9554-0ff8a4c1c3fb",
   "metadata": {
    "pycharm": {
     "name": "#%%\n"
    },
    "tags": []
   },
   "outputs": [],
   "source": [
    "y = df.pop('Transported')\n",
    "X = df.copy(deep=True)"
   ]
  },
  {
   "cell_type": "markdown",
   "id": "44c0b812-be68-4bfd-8f14-3ec5555a1ce3",
   "metadata": {
    "pycharm": {
     "name": "#%% md\n"
    }
   },
   "source": [
    "Split X and y to train and test set using train_test_split.\n",
    "\n",
    "Documentation: [sklearn.model_selection.train_test_split](https://scikit-learn.org/stable/modules/generated/sklearn.model_selection.train_test_split.html)"
   ]
  },
  {
   "cell_type": "code",
   "execution_count": null,
   "id": "f9088370-30ce-4e7a-bd12-deb30c00b78d",
   "metadata": {
    "pycharm": {
     "name": "#%%\n"
    },
    "tags": []
   },
   "outputs": [],
   "source": [
    "from sklearn.model_selection import train_test_split\n",
    "\n",
    "X_train, X_test, y_train, y_test = train_test_split(X, y, test_size=0.3, random_state=7)"
   ]
  },
  {
   "cell_type": "code",
   "execution_count": null,
   "id": "06d0e1da-8b0d-4f59-9244-0a525b43184e",
   "metadata": {
    "pycharm": {
     "name": "#%%\n"
    },
    "tags": []
   },
   "outputs": [],
   "source": [
    "X_train.isna().sum()"
   ]
  },
  {
   "cell_type": "markdown",
   "id": "425f5675-d890-4c36-ba63-d2e8d5716638",
   "metadata": {
    "pycharm": {
     "name": "#%% md\n"
    }
   },
   "source": [
    "as you can see above there is still some missing values in numerical/boolean values."
   ]
  },
  {
   "cell_type": "code",
   "execution_count": null,
   "id": "40cee292-35a4-4e09-8a25-3f8f783f8e5a",
   "metadata": {
    "pycharm": {
     "name": "#%%\n"
    }
   },
   "outputs": [],
   "source": [
    "df[['CryoSleep','Age','VIP']].head()"
   ]
  },
  {
   "cell_type": "markdown",
   "id": "34f7be84-d1c5-4087-b17f-715003f86fbd",
   "metadata": {
    "pycharm": {
     "name": "#%% md\n"
    }
   },
   "source": [
    "We will use Imputers to fill the missing values. We will use 2 different methods for that.\n",
    "\n",
    "- `KNNImputer` - Each sample’s missing values are imputed using the mean value from `n_neighbors` nearest neighbors found in the training set. Two samples are close if the features that neither is missing are close.\n",
    "- `SimpleImputer` - Replace missing values using a descriptive statistic (e.g. mean, median, or most frequent) along each column, or using a constant value.\n",
    "\n",
    "Task:\n",
    "- Use `KNNImputer` with 2 neighbouring samples to fill up `CryoSleep` column\n",
    "- Use `SimpleImputer` with `'mean'`strategy to fill up `Age` column\n",
    "- Use `SimpleImputer` with `'most_fequent'` strategy to fill up `VIP` column"
   ]
  },
  {
   "cell_type": "code",
   "execution_count": null,
   "id": "c693d502-8423-4230-9165-9c5bbf35838b",
   "metadata": {
    "pycharm": {
     "name": "#%%\n"
    },
    "tags": []
   },
   "outputs": [],
   "source": [
    "from sklearn.impute import SimpleImputer, KNNImputer\n",
    "import numpy as np\n",
    "\n",
    "knn_imp = KNNImputer(n_neighbors=2) #CryoSleep\n",
    "mean_imp = SimpleImputer(strategy='mean') #Age\n",
    "freq_imp = SimpleImputer(strategy=\"most_frequent\") #VIP\n",
    "\n",
    "for imputer, feature_name in zip([knn_imp, mean_imp, freq_imp], ['CryoSleep', 'Age', 'VIP']):\n",
    "    X_train[feature_name] = imputer.fit_transform(X_train[[feature_name]])\n",
    "    X_test[feature_name] = imputer.transform(X_test[[feature_name]])"
   ]
  },
  {
   "cell_type": "markdown",
   "id": "01c2653c-4360-430b-929a-0dcc22374d9c",
   "metadata": {
    "pycharm": {
     "name": "#%% md\n"
    }
   },
   "source": [
    "We use `fit_transform` on train set and `transform` on test set, because we don't want to bias the model with information from the test set."
   ]
  },
  {
   "cell_type": "code",
   "execution_count": null,
   "id": "184a5887-b226-464d-b540-e569b3ce4021",
   "metadata": {
    "pycharm": {
     "name": "#%%\n"
    },
    "tags": []
   },
   "outputs": [],
   "source": [
    "X_train.isna().sum()"
   ]
  },
  {
   "cell_type": "markdown",
   "id": "26bac8d8-1bf8-48da-af76-c4f36cc8d394",
   "metadata": {
    "pycharm": {
     "name": "#%% md\n"
    }
   },
   "source": [
    "Use `StandardScaler` to standarize the train features. Use `fit_transform()` and `transform()` methods in similar fashion as with imputers on both train and test set. "
   ]
  },
  {
   "cell_type": "code",
   "execution_count": null,
   "id": "645151f4-5139-4158-a47c-eb6fe5c9be06",
   "metadata": {
    "pycharm": {
     "name": "#%%\n"
    },
    "tags": []
   },
   "outputs": [],
   "source": [
    "from sklearn.preprocessing import StandardScaler\n",
    "from sklearn.metrics import accuracy_score, log_loss\n",
    "\n",
    "scaler = StandardScaler()\n",
    "X_train = scaler.fit_transform(X_train)\n",
    "X_test = scaler.transform(X_test)"
   ]
  },
  {
   "cell_type": "markdown",
   "id": "ee117c03-a5ac-4ce5-b042-175708110cdf",
   "metadata": {
    "pycharm": {
     "name": "#%% md\n"
    }
   },
   "source": [
    "create `LogisticRegression` model and fit it with train set\n"
   ]
  },
  {
   "cell_type": "code",
   "execution_count": null,
   "id": "1f8ad8f2-1a2e-4ac9-ac53-b4cb457396d2",
   "metadata": {
    "pycharm": {
     "name": "#%%\n"
    }
   },
   "outputs": [],
   "source": [
    "from sklearn.linear_model import LogisticRegression\n",
    "\n",
    "model = LogisticRegression()\n",
    "model.fit(X_train, y_train)"
   ]
  },
  {
   "cell_type": "markdown",
   "id": "bae8129f-d6c5-449c-85d8-1c156d6aaa7b",
   "metadata": {
    "pycharm": {
     "name": "#%% md\n"
    }
   },
   "source": [
    "To print the documentation you can use `?` after the method name"
   ]
  },
  {
   "cell_type": "code",
   "execution_count": null,
   "id": "d2817056-e7e4-4b32-84fa-53e19008f8ca",
   "metadata": {
    "pycharm": {
     "name": "#%%\n"
    }
   },
   "outputs": [],
   "source": [
    "model.score?"
   ]
  },
  {
   "cell_type": "markdown",
   "id": "2cc660ac-4f46-40f5-8a20-a58346f57e8d",
   "metadata": {
    "pycharm": {
     "name": "#%% md\n"
    }
   },
   "source": [
    "---\n",
    "As you can see above the `score()` method returns accuracy of the model given passed data. \n",
    "Calculate accuracy on train and test set."
   ]
  },
  {
   "cell_type": "code",
   "execution_count": null,
   "id": "964e19ea-9cdf-4f76-9c84-6b92cdb4f335",
   "metadata": {
    "pycharm": {
     "name": "#%%\n"
    }
   },
   "outputs": [],
   "source": [
    "model.score(X_train, y_train), model.score(X_test, y_test)"
   ]
  },
  {
   "cell_type": "markdown",
   "id": "68d4e604-28c7-4122-9eaf-87bb1f81e9b0",
   "metadata": {
    "pycharm": {
     "name": "#%% md\n"
    }
   },
   "source": [
    "---\n",
    "display confusion matrix using `from_estimator` from `ConfusionMatrixDisplay`\n",
    "\n",
    "Documentation: [sklearn.metrics.ConfusionMatrixDisplay.from_estimator](https://scikit-learn.org/stable/modules/generated/sklearn.metrics.ConfusionMatrixDisplay.html#sklearn.metrics.ConfusionMatrixDisplay.from_estimator)"
   ]
  },
  {
   "cell_type": "code",
   "execution_count": null,
   "id": "97d4fb73-6b67-44f5-b850-d1725f04054e",
   "metadata": {
    "pycharm": {
     "name": "#%%\n"
    }
   },
   "outputs": [],
   "source": [
    "from sklearn.metrics import ConfusionMatrixDisplay\n",
    "\n",
    "ConfusionMatrixDisplay.from_estimator(model, X_test, y_test)"
   ]
  },
  {
   "cell_type": "markdown",
   "id": "6f03a338-30e6-492c-8519-24f2b8a035f5",
   "metadata": {
    "pycharm": {
     "name": "#%% md\n"
    }
   },
   "source": [
    "display ROC curve using `from_estimator` from `RocCurveDisplay`\n",
    "\n",
    "Documentation: [sklearn.metrics.RocCurveDisplay.from_estimator](https://scikit-learn.org/stable/modules/generated/sklearn.metrics.RocCurveDisplay.html)"
   ]
  },
  {
   "cell_type": "code",
   "execution_count": null,
   "id": "04f92a5f-4b6e-449c-a5d9-6b62389c1394",
   "metadata": {
    "pycharm": {
     "name": "#%%\n"
    },
    "tags": []
   },
   "outputs": [],
   "source": [
    "from sklearn.metrics import RocCurveDisplay\n",
    "\n",
    "RocCurveDisplay.from_estimator(model, X_test, y_test)"
   ]
  },
  {
   "cell_type": "code",
   "execution_count": null,
   "id": "53845456-1fba-4791-b278-b10cd25a5444",
   "metadata": {
    "pycharm": {
     "name": "#%%\n"
    }
   },
   "outputs": [],
   "source": []
  },
  {
   "cell_type": "code",
   "execution_count": null,
   "id": "a95a3762-2970-40b0-94ef-f75c60357580",
   "metadata": {
    "pycharm": {
     "name": "#%%\n"
    }
   },
   "outputs": [],
   "source": []
  }
 ],
 "metadata": {
  "kernelspec": {
   "display_name": "Python 3 (ipykernel)",
   "language": "python",
   "name": "python3"
  },
  "language_info": {
   "codemirror_mode": {
    "name": "ipython",
    "version": 3
   },
   "file_extension": ".py",
   "mimetype": "text/x-python",
   "name": "python",
   "nbconvert_exporter": "python",
   "pygments_lexer": "ipython3",
   "version": "3.9.13"
  }
 },
 "nbformat": 4,
 "nbformat_minor": 5
}