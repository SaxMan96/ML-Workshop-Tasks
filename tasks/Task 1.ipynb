{
 "cells": [
  {
   "cell_type": "markdown",
   "id": "ef32204f-8482-49ed-9c16-7c3126392f7c",
   "metadata": {
    "execution": {
     "iopub.execute_input": "2022-10-22T10:07:04.476314Z",
     "iopub.status.busy": "2022-10-22T10:07:04.476314Z",
     "iopub.status.idle": "2022-10-22T10:07:04.502318Z",
     "shell.execute_reply": "2022-10-22T10:07:04.500318Z",
     "shell.execute_reply.started": "2022-10-22T10:07:04.476314Z"
    },
    "tags": [],
    "pycharm": {
     "name": "#%% md\n"
    }
   },
   "source": [
    "# Task 1 - predict real estate price\n",
    "\n",
    "- Predict house price using linear regression model from `sklearn`\n",
    "- Extract target variable `y` - under `unit_area_price` column\n",
    "- Separate test set (30%) `X_train, X_test, y_train, y_test` using `train_test_split` from `sklearn.model_selection`\n",
    "- use `StandardScaler` (method `fit_transform` and `fit`) to scale the data\n",
    "- train and score the model using R2 score\n",
    "- plot Actual vs Predicted scatter plot\n",
    "- display trained model coefficients for each variable to visualize feature importance.\n",
    "\n",
    "Data Description:\n",
    "\n",
    "The inputs are as follows\n",
    "- transaction_date = the transaction date (for example, 2013.250=2013 March, 2013.500=2013 June, etc.)\n",
    "- house_age = the house age (unit: year)\n",
    "- nearest_mass_rapid_transit_station_distance = the distance to the nearest MRT station (unit: meter)\n",
    "- convenience_stores_cnt = the number of convenience stores in the living circle on foot (integer)\n",
    "- latitude = the geographic coordinate, latitude. (unit: degree)\n",
    "- longitude = the geographic coordinate, longitude. (unit: degree)\n",
    "\n",
    "The output is as follow\n",
    "- unit_area_price = house price of unit area (10000 New Taiwan Dollar/Ping, where Ping is a local unit, 1 Ping = 3.3 meter squared)\n",
    "\n"
   ]
  },
  {
   "cell_type": "code",
   "execution_count": null,
   "id": "e26705ec-c0d3-4445-aff4-f75c52d8d7cb",
   "metadata": {
    "tags": [],
    "pycharm": {
     "name": "#%%\n"
    }
   },
   "outputs": [],
   "source": [
    "import pandas as pd\n",
    "url = \"https://gist.githubusercontent.com/SaxMan96/044536b0517b98aab0a9d8171a10ec58/raw/77a07715c7fe727c0c0f7567756530a9c49b73c2/real_estate.csv\"\n",
    "df = pd.read_csv(url, index_col=0)"
   ]
  },
  {
   "cell_type": "code",
   "execution_count": null,
   "id": "838f6783-e7b8-4a7b-ba7a-985d95c568d7",
   "metadata": {
    "pycharm": {
     "name": "#%%\n"
    }
   },
   "outputs": [],
   "source": [
    "df.head()"
   ]
  },
  {
   "cell_type": "code",
   "execution_count": null,
   "id": "64a8f054-55d0-450d-a751-866d1777e5be",
   "metadata": {
    "tags": [],
    "pycharm": {
     "name": "#%%\n"
    }
   },
   "outputs": [],
   "source": [
    "y = ...\n",
    "X = ..."
   ]
  },
  {
   "cell_type": "code",
   "execution_count": null,
   "id": "223c73f7-3086-464e-8405-69df22a06e8f",
   "metadata": {
    "tags": [],
    "pycharm": {
     "name": "#%%\n"
    }
   },
   "outputs": [],
   "source": [
    "X_train, X_test, y_train, y_test = ..."
   ]
  },
  {
   "cell_type": "code",
   "execution_count": null,
   "id": "a1c8b0af-2960-4d8b-be2f-849cbddf7a3b",
   "metadata": {
    "tags": [],
    "pycharm": {
     "name": "#%%\n"
    }
   },
   "outputs": [],
   "source": [
    "scaler = StandardScaler()\n",
    "X_train = ...\n",
    "X_test = ...\n",
    "\n",
    "model = ...\n"
   ]
  },
  {
   "cell_type": "code",
   "execution_count": null,
   "id": "0d91757b-0cb6-411f-b572-f4cd85803c10",
   "metadata": {
    "tags": [],
    "pycharm": {
     "name": "#%%\n"
    }
   },
   "outputs": [],
   "source": [
    "train_r2_score_value = ... "
   ]
  },
  {
   "cell_type": "code",
   "execution_count": null,
   "id": "89d4804e-758b-4b92-a3f2-f5e3709637d6",
   "metadata": {
    "tags": [],
    "pycharm": {
     "name": "#%%\n"
    }
   },
   "outputs": [],
   "source": [
    "test_r2_score_value = ..."
   ]
  },
  {
   "cell_type": "code",
   "execution_count": null,
   "id": "4fbc8100-0f87-4222-bbb8-ba4ea06f5f99",
   "metadata": {
    "tags": [],
    "pycharm": {
     "name": "#%%\n"
    }
   },
   "outputs": [],
   "source": [
    "import matplotlib.pyplot as plt\n",
    "\n",
    "plt.scatter(x=..., y=...)\n",
    "plt.show()"
   ]
  },
  {
   "cell_type": "code",
   "execution_count": null,
   "id": "34f4b5d9-6a69-4686-9f20-27e7c3d2a391",
   "metadata": {
    "tags": [],
    "pycharm": {
     "name": "#%%\n"
    }
   },
   "outputs": [],
   "source": [
    "plt.barh(width=..., y=...);"
   ]
  },
  {
   "cell_type": "markdown",
   "id": "5f467ce8-bca0-4bb1-8423-d5dfc97c29e7",
   "metadata": {
    "execution": {
     "iopub.execute_input": "2022-10-22T10:52:14.839223Z",
     "iopub.status.busy": "2022-10-22T10:52:14.839223Z",
     "iopub.status.idle": "2022-10-22T10:52:14.852551Z",
     "shell.execute_reply": "2022-10-22T10:52:14.851584Z",
     "shell.execute_reply.started": "2022-10-22T10:52:14.839223Z"
    },
    "pycharm": {
     "name": "#%% md\n"
    }
   },
   "source": [
    "# (extra) Plot on Map"
   ]
  },
  {
   "cell_type": "code",
   "execution_count": null,
   "id": "299684c6-8d4e-4473-8784-610c6e460b00",
   "metadata": {
    "tags": [],
    "pycharm": {
     "name": "#%%\n"
    }
   },
   "outputs": [],
   "source": [
    "import folium\n",
    "import matplotlib.cm as cm\n",
    "from matplotlib.colors import Normalize\n",
    "from matplotlib.colors import rgb2hex\n",
    "\n",
    "cmap = cm.magma\n",
    "norm = Normalize(vmin=10, vmax=70)\n",
    "\n",
    "def plot_point(point):\n",
    "    rgb = cmap(norm(point.unit_area_price))\n",
    "    hex_color = rgb2hex(rgb)\n",
    "    folium.CircleMarker(\n",
    "        location=[point.latitude, point.longitude],\n",
    "        fill=True,\n",
    "        weight=4,\n",
    "        radius=5,\n",
    "        color=hex_color,\n",
    "        tooltip=f\"\"\"\n",
    "            House Age: {int(point.house_age)}<br>\n",
    "            Price/Unit: {point.unit_area_price}$<br>\n",
    "            Stores Cnt: {int(point.convenience_stores_cnt)}<br>\n",
    "            Station dist: {int(point.nearest_mass_rapid_transit_station_distance)}m\n",
    "        \"\"\"\n",
    "    ).add_to(folium_map)\n",
    "\n",
    "    \n",
    "folium_map = folium.Map(prefer_canvas=True)\n",
    "df.apply(plot_point, axis=1)\n",
    "folium_map.fit_bounds(folium_map.get_bounds())\n",
    "folium_map"
   ]
  }
 ],
 "metadata": {
  "kernelspec": {
   "display_name": "Python 3 (ipykernel)",
   "language": "python",
   "name": "python3"
  },
  "language_info": {
   "codemirror_mode": {
    "name": "ipython",
    "version": 3
   },
   "file_extension": ".py",
   "mimetype": "text/x-python",
   "name": "python",
   "nbconvert_exporter": "python",
   "pygments_lexer": "ipython3",
   "version": "3.9.13"
  }
 },
 "nbformat": 4,
 "nbformat_minor": 5
}